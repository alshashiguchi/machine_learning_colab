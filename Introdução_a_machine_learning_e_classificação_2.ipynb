{
  "nbformat": 4,
  "nbformat_minor": 0,
  "metadata": {
    "colab": {
      "name": "Introdução a machine learning e classificação - 2.ipynb",
      "version": "0.3.2",
      "provenance": [],
      "collapsed_sections": [],
      "include_colab_link": true
    },
    "kernelspec": {
      "name": "python3",
      "display_name": "Python 3"
    }
  },
  "cells": [
    {
      "cell_type": "markdown",
      "metadata": {
        "id": "view-in-github",
        "colab_type": "text"
      },
      "source": [
        "<a href=\"https://colab.research.google.com/github/alshashiguchi/machine_learning_colab/blob/master/Introdu%C3%A7%C3%A3o_a_machine_learning_e_classifica%C3%A7%C3%A3o_2.ipynb\" target=\"_parent\"><img src=\"https://colab.research.google.com/assets/colab-badge.svg\" alt=\"Open In Colab\"/></a>"
      ]
    },
    {
      "metadata": {
        "id": "i3byDimi1Qvu",
        "colab_type": "text"
      },
      "cell_type": "markdown",
      "source": [
        "Importando os dados"
      ]
    },
    {
      "metadata": {
        "id": "O8eNtCWs1L15",
        "colab_type": "code",
        "outputId": "4c3088d6-c21b-4eee-9223-1c2e0a096114",
        "colab": {
          "base_uri": "https://localhost:8080/",
          "height": 204
        }
      },
      "cell_type": "code",
      "source": [
        "import pandas as pd \n",
        "\n",
        "uri='https://gist.githubusercontent.com/guilhermesilveira/2d2efa37d66b6c84a722ea627a897ced/raw/10968b997d885cbded1c92938c7a9912ba41c615/tracking.csv'\n",
        "\n",
        "dados = pd.read_csv(uri)\n",
        "\n",
        "dados.head()"
      ],
      "execution_count": 0,
      "outputs": [
        {
          "output_type": "execute_result",
          "data": {
            "text/html": [
              "<div>\n",
              "<style scoped>\n",
              "    .dataframe tbody tr th:only-of-type {\n",
              "        vertical-align: middle;\n",
              "    }\n",
              "\n",
              "    .dataframe tbody tr th {\n",
              "        vertical-align: top;\n",
              "    }\n",
              "\n",
              "    .dataframe thead th {\n",
              "        text-align: right;\n",
              "    }\n",
              "</style>\n",
              "<table border=\"1\" class=\"dataframe\">\n",
              "  <thead>\n",
              "    <tr style=\"text-align: right;\">\n",
              "      <th></th>\n",
              "      <th>home</th>\n",
              "      <th>how_it_works</th>\n",
              "      <th>contact</th>\n",
              "      <th>bought</th>\n",
              "    </tr>\n",
              "  </thead>\n",
              "  <tbody>\n",
              "    <tr>\n",
              "      <th>0</th>\n",
              "      <td>1</td>\n",
              "      <td>1</td>\n",
              "      <td>0</td>\n",
              "      <td>0</td>\n",
              "    </tr>\n",
              "    <tr>\n",
              "      <th>1</th>\n",
              "      <td>1</td>\n",
              "      <td>1</td>\n",
              "      <td>0</td>\n",
              "      <td>0</td>\n",
              "    </tr>\n",
              "    <tr>\n",
              "      <th>2</th>\n",
              "      <td>1</td>\n",
              "      <td>1</td>\n",
              "      <td>0</td>\n",
              "      <td>0</td>\n",
              "    </tr>\n",
              "    <tr>\n",
              "      <th>3</th>\n",
              "      <td>1</td>\n",
              "      <td>1</td>\n",
              "      <td>0</td>\n",
              "      <td>0</td>\n",
              "    </tr>\n",
              "    <tr>\n",
              "      <th>4</th>\n",
              "      <td>1</td>\n",
              "      <td>1</td>\n",
              "      <td>0</td>\n",
              "      <td>0</td>\n",
              "    </tr>\n",
              "  </tbody>\n",
              "</table>\n",
              "</div>"
            ],
            "text/plain": [
              "   home  how_it_works  contact  bought\n",
              "0     1             1        0       0\n",
              "1     1             1        0       0\n",
              "2     1             1        0       0\n",
              "3     1             1        0       0\n",
              "4     1             1        0       0"
            ]
          },
          "metadata": {
            "tags": []
          },
          "execution_count": 1
        }
      ]
    },
    {
      "metadata": {
        "id": "kTBzhz732RJJ",
        "colab_type": "text"
      },
      "cell_type": "markdown",
      "source": [
        "Renomeando as columas"
      ]
    },
    {
      "metadata": {
        "id": "XKWG8-cg19YR",
        "colab_type": "code",
        "colab": {}
      },
      "cell_type": "code",
      "source": [
        "mapa = {\n",
        "    'home' : 'principal',\n",
        "    'how_it_works' : 'como_funciona',\n",
        "    'contact' : 'contato',\n",
        "    'bought' : 'comprou'\n",
        "    \n",
        "}\n",
        "\n",
        "dados = dados.rename(columns = mapa)"
      ],
      "execution_count": 0,
      "outputs": []
    },
    {
      "metadata": {
        "id": "J8h_vovp2PHP",
        "colab_type": "text"
      },
      "cell_type": "markdown",
      "source": [
        "Separando os dados"
      ]
    },
    {
      "metadata": {
        "id": "-cYHIush1jmn",
        "colab_type": "code",
        "colab": {}
      },
      "cell_type": "code",
      "source": [
        "x = dados[['principal', 'como_funciona', 'contato']]\n",
        "y = dados['comprou']"
      ],
      "execution_count": 0,
      "outputs": []
    },
    {
      "metadata": {
        "id": "t3vOrTG-34rs",
        "colab_type": "text"
      },
      "cell_type": "markdown",
      "source": [
        "Qual formato dos dados"
      ]
    },
    {
      "metadata": {
        "id": "6asap3mE34GL",
        "colab_type": "code",
        "outputId": "3668ac2f-6aa6-477f-b382-ab93fde7d188",
        "colab": {
          "base_uri": "https://localhost:8080/",
          "height": 34
        }
      },
      "cell_type": "code",
      "source": [
        "dados.shape"
      ],
      "execution_count": 0,
      "outputs": [
        {
          "output_type": "execute_result",
          "data": {
            "text/plain": [
              "(99, 4)"
            ]
          },
          "metadata": {
            "tags": []
          },
          "execution_count": 4
        }
      ]
    },
    {
      "metadata": {
        "id": "ydrCO3hh3-p7",
        "colab_type": "text"
      },
      "cell_type": "markdown",
      "source": [
        "Separando os dados\n",
        "\n",
        "(verificar abaixo o codigo mais simples que resolve isso)"
      ]
    },
    {
      "metadata": {
        "id": "ZPH0wSVK3_NJ",
        "colab_type": "code",
        "outputId": "49ee6fc1-d5ab-490d-f79f-238748d3035e",
        "colab": {
          "base_uri": "https://localhost:8080/",
          "height": 34
        }
      },
      "cell_type": "code",
      "source": [
        "treino_x = x[:75]\n",
        "treino_y = y[:75]\n",
        "teste_x = x[75:]\n",
        "teste_y = y[75:]\n",
        "\n",
        "print('Treinaremos com %d elementos e testaremos com %d elementos' % (len(treino_x), len(teste_x)))"
      ],
      "execution_count": 0,
      "outputs": [
        {
          "output_type": "stream",
          "text": [
            "Treinaremos com 75 elementos e testaremos com 24 elementos\n"
          ],
          "name": "stdout"
        }
      ]
    },
    {
      "metadata": {
        "id": "J546OQjt4wGk",
        "colab_type": "text"
      },
      "cell_type": "markdown",
      "source": [
        "Criando um modelo"
      ]
    },
    {
      "metadata": {
        "id": "lTcMlb3K4wbk",
        "colab_type": "code",
        "outputId": "5cd0cff3-f5b8-4aa7-b438-4fe81e6ee669",
        "colab": {
          "base_uri": "https://localhost:8080/",
          "height": 85
        }
      },
      "cell_type": "code",
      "source": [
        "from sklearn.svm import LinearSVC\n",
        "from sklearn.metrics import accuracy_score\n",
        "\n",
        "modelo = LinearSVC()\n",
        "modelo.fit(treino_x, treino_y)\n",
        "\n"
      ],
      "execution_count": 0,
      "outputs": [
        {
          "output_type": "execute_result",
          "data": {
            "text/plain": [
              "LinearSVC(C=1.0, class_weight=None, dual=True, fit_intercept=True,\n",
              "     intercept_scaling=1, loss='squared_hinge', max_iter=1000,\n",
              "     multi_class='ovr', penalty='l2', random_state=None, tol=0.0001,\n",
              "     verbose=0)"
            ]
          },
          "metadata": {
            "tags": []
          },
          "execution_count": 6
        }
      ]
    },
    {
      "metadata": {
        "id": "c6gceImW5f6-",
        "colab_type": "text"
      },
      "cell_type": "markdown",
      "source": [
        "Realizando a previsão"
      ]
    },
    {
      "metadata": {
        "id": "_qEF-KP25g11",
        "colab_type": "code",
        "colab": {}
      },
      "cell_type": "code",
      "source": [
        "previsoes = modelo.predict(teste_x)"
      ],
      "execution_count": 0,
      "outputs": []
    },
    {
      "metadata": {
        "id": "_805Bspf5mEN",
        "colab_type": "text"
      },
      "cell_type": "markdown",
      "source": [
        "Validando a acurácia"
      ]
    },
    {
      "metadata": {
        "id": "N6zuzKyg5mgk",
        "colab_type": "code",
        "outputId": "2c105d04-3bcf-46f4-9445-6a83ca74fcb4",
        "colab": {
          "base_uri": "https://localhost:8080/",
          "height": 34
        }
      },
      "cell_type": "code",
      "source": [
        "taxa_de_acerto = accuracy_score(teste_y, previsoes)\n",
        "print('A acurácia foi %.2f%%' % (taxa_de_acerto * 100))"
      ],
      "execution_count": 0,
      "outputs": [
        {
          "output_type": "stream",
          "text": [
            "A acurácia foi 95.83%\n"
          ],
          "name": "stdout"
        }
      ]
    },
    {
      "metadata": {
        "id": "4GthH5i-TGqg",
        "colab_type": "text"
      },
      "cell_type": "markdown",
      "source": [
        "#Utilizando biblioteca para separar os dados\n",
        "\n",
        "Separando os dados de treino e teste \n",
        "\n",
        "Utilizando a lib do sklearn é bem mais simples do que fazer os comandos acima fazendo manualmente a separação do dados."
      ]
    },
    {
      "metadata": {
        "id": "EFEhcQnVTBIw",
        "colab_type": "code",
        "outputId": "531735c5-cf66-462f-ac00-6d034650922f",
        "colab": {
          "base_uri": "https://localhost:8080/",
          "height": 51
        }
      },
      "cell_type": "code",
      "source": [
        "from sklearn.model_selection import train_test_split\n",
        "from sklearn.svm import LinearSVC\n",
        "from sklearn.metrics import accuracy_score\n",
        "\n",
        "SEED = 20 #Definicao no numero inicial para os numeros aleatorios, para definir os numeros aleatorios pra nao ser tao aleatorios\n",
        "\n",
        "treino_x, teste_x, treino_y, teste_y = train_test_split(x, y,random_state = SEED, stratify = y, test_size = 0.25)\n",
        "\n",
        "print(\"Treinaremos com %d elementos e testaremos com %d elementos\" % (len(treino_x), len(teste_x)))\n",
        "\n",
        "modelo = LinearSVC()\n",
        "modelo.fit(treino_x, treino_y)\n",
        "\n",
        "previsoes = modelo.predict(teste_x)\n",
        "\n",
        "taxa_de_acerto = accuracy_score(teste_y, previsoes)\n",
        "print('A acurácia foi %.2f%%' % (taxa_de_acerto * 100))\n",
        "\n"
      ],
      "execution_count": 0,
      "outputs": [
        {
          "output_type": "stream",
          "text": [
            "Treinaremos com 74 elementos e testaremos com 25 elementos\n",
            "A acurácia foi 96.00%\n"
          ],
          "name": "stdout"
        }
      ]
    },
    {
      "metadata": {
        "id": "yeX9jZ9NnGr-",
        "colab_type": "text"
      },
      "cell_type": "markdown",
      "source": [
        "É muito importante utilizar o **stratify** pois ele vai manter a proporção entre os dados, e por que isso é importante se caso na separação dos dados ele recuperar somente um tipo de classe por exemplo pessoas que não compraram no site o algoritmo só irá saber o comportamente das pessoas que não compraram ele naum vai saber o comportamento de quem comprou.\n",
        "\n",
        "Abaixo a prova que esta mantendo a proporção"
      ]
    },
    {
      "metadata": {
        "id": "1_OAztHVnf_w",
        "colab_type": "code",
        "outputId": "193e7266-3579-4235-8693-26934d1b9d2a",
        "colab": {
          "base_uri": "https://localhost:8080/",
          "height": 68
        }
      },
      "cell_type": "code",
      "source": [
        "treino_y.value_counts()"
      ],
      "execution_count": 0,
      "outputs": [
        {
          "output_type": "execute_result",
          "data": {
            "text/plain": [
              "0    49\n",
              "1    25\n",
              "Name: comprou, dtype: int64"
            ]
          },
          "metadata": {
            "tags": []
          },
          "execution_count": 18
        }
      ]
    },
    {
      "metadata": {
        "id": "Fw6EVx9mno7n",
        "colab_type": "code",
        "outputId": "85dd65ec-0d2f-4ac8-a673-f8ace87a3708",
        "colab": {
          "base_uri": "https://localhost:8080/",
          "height": 68
        }
      },
      "cell_type": "code",
      "source": [
        "teste_y.value_counts()"
      ],
      "execution_count": 0,
      "outputs": [
        {
          "output_type": "execute_result",
          "data": {
            "text/plain": [
              "0    17\n",
              "1     8\n",
              "Name: comprou, dtype: int64"
            ]
          },
          "metadata": {
            "tags": []
          },
          "execution_count": 22
        }
      ]
    }
  ]
}