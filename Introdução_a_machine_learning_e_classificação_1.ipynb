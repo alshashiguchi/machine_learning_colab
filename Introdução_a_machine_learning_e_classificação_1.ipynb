{
  "nbformat": 4,
  "nbformat_minor": 0,
  "metadata": {
    "colab": {
      "name": "Introdução a machine learning e classificação - 1.ipynb",
      "version": "0.3.2",
      "provenance": [],
      "collapsed_sections": [],
      "include_colab_link": true
    },
    "kernelspec": {
      "name": "python3",
      "display_name": "Python 3"
    }
  },
  "cells": [
    {
      "cell_type": "markdown",
      "metadata": {
        "id": "view-in-github",
        "colab_type": "text"
      },
      "source": [
        "<a href=\"https://colab.research.google.com/github/alshashiguchi/machine_learning_colab/blob/master/Introdu%C3%A7%C3%A3o_a_machine_learning_e_classifica%C3%A7%C3%A3o_1.ipynb\" target=\"_parent\"><img src=\"https://colab.research.google.com/assets/colab-badge.svg\" alt=\"Open In Colab\"/></a>"
      ]
    },
    {
      "metadata": {
        "id": "_fWBxo9UOYWu",
        "colab_type": "text"
      },
      "cell_type": "markdown",
      "source": [
        "#Características (features) do cachorro ou porco\n",
        "\n",
        "1 - SIM\n",
        "0 - NÃO\n",
        "\n",
        "* Pelos longos?\n",
        "* Perna curta?\n",
        "* Faz auaua?"
      ]
    },
    {
      "metadata": {
        "id": "pybbymQmQCTH",
        "colab_type": "text"
      },
      "cell_type": "markdown",
      "source": [
        "Porcos"
      ]
    },
    {
      "metadata": {
        "id": "FurnOtsnPWN-",
        "colab_type": "code",
        "colab": {}
      },
      "cell_type": "code",
      "source": [
        "porco1 = [0, 1, 0]\n",
        "porco2 = [0, 1, 1]\n",
        "porco3 = [1, 1, 0]"
      ],
      "execution_count": 0,
      "outputs": []
    },
    {
      "metadata": {
        "id": "YMx8yZ_QQETY",
        "colab_type": "text"
      },
      "cell_type": "markdown",
      "source": [
        "Cachorro"
      ]
    },
    {
      "metadata": {
        "id": "S8KwN7rYMxX5",
        "colab_type": "code",
        "colab": {}
      },
      "cell_type": "code",
      "source": [
        "cachorro1 = [0, 1, 1]\n",
        "cachorro2 = [1, 0, 1]\n",
        "cachorro3 = [1, 1, 1]"
      ],
      "execution_count": 0,
      "outputs": []
    },
    {
      "metadata": {
        "id": "cO9tsNN-QenD",
        "colab_type": "text"
      },
      "cell_type": "markdown",
      "source": [
        "Dados\n",
        "\n",
        "Classes de classificação\n",
        "\n",
        "1 - Porco\n",
        "0 - Cachorro\n",
        "\n",
        "Devemos pensar como fosse uma função matemática, o modelo funciona como uma função\n",
        "ex:\n",
        "f(x) = y\n",
        "\n",
        "f = modelo\n",
        "\n",
        "x = dados\n",
        "\n",
        "y = classes\n"
      ]
    },
    {
      "metadata": {
        "id": "2khFx3mcQUdR",
        "colab_type": "code",
        "colab": {}
      },
      "cell_type": "code",
      "source": [
        "treino_x = [porco1, porco2, porco3, cachorro1, cachorro2, cachorro3]\n",
        "treino_y = [1, 1, 1, 0, 0, 0] #label / etiqueta"
      ],
      "execution_count": 0,
      "outputs": []
    },
    {
      "metadata": {
        "id": "RYZYLLVGQzpL",
        "colab_type": "text"
      },
      "cell_type": "markdown",
      "source": [
        "Criando um modelo"
      ]
    },
    {
      "metadata": {
        "id": "HTZIk9h1Q0Qc",
        "colab_type": "code",
        "outputId": "95fc4c7d-d6e8-4c87-9c13-161245b9db69",
        "colab": {
          "base_uri": "https://localhost:8080/",
          "height": 106
        }
      },
      "cell_type": "code",
      "source": [
        "from sklearn.svm import LinearSVC\n",
        "\n",
        "model = LinearSVC()\n",
        "model.fit(treino_x, treino_y)"
      ],
      "execution_count": 0,
      "outputs": [
        {
          "output_type": "execute_result",
          "data": {
            "text/plain": [
              "LinearSVC(C=1.0, class_weight=None, dual=True, fit_intercept=True,\n",
              "     intercept_scaling=1, loss='squared_hinge', max_iter=1000,\n",
              "     multi_class='ovr', penalty='l2', random_state=None, tol=0.0001,\n",
              "     verbose=0)"
            ]
          },
          "metadata": {
            "tags": []
          },
          "execution_count": 4
        }
      ]
    },
    {
      "metadata": {
        "id": "2A13yadmRik-",
        "colab_type": "text"
      },
      "cell_type": "markdown",
      "source": [
        "Teste do modelo"
      ]
    },
    {
      "metadata": {
        "id": "NQ4LhTwYRiyH",
        "colab_type": "code",
        "outputId": "ec9f0de4-41fd-47b6-f88e-7ec04d81ad99",
        "colab": {
          "base_uri": "https://localhost:8080/",
          "height": 34
        }
      },
      "cell_type": "code",
      "source": [
        "animal_misterioso = [1, 1, 1]\n",
        "model.predict([animal_misterioso])\n",
        "\n"
      ],
      "execution_count": 0,
      "outputs": [
        {
          "output_type": "execute_result",
          "data": {
            "text/plain": [
              "array([0])"
            ]
          },
          "metadata": {
            "tags": []
          },
          "execution_count": 5
        }
      ]
    },
    {
      "metadata": {
        "id": "h-4V2KEjTlkV",
        "colab_type": "text"
      },
      "cell_type": "markdown",
      "source": [
        "Teste com varios animais"
      ]
    },
    {
      "metadata": {
        "id": "8rl2a6MdTk85",
        "colab_type": "code",
        "colab": {}
      },
      "cell_type": "code",
      "source": [
        "misterio1 = [1,1,1] \n",
        "misterio2 = [1,1,0]\n",
        "misterio3 = [0,1,1]\n",
        "\n",
        "teste_x = [misterio1, misterio2, misterio3]\n",
        "teste_y = [0, 1, 1]\n",
        "\n",
        "previsoes = model.predict(teste_x)"
      ],
      "execution_count": 0,
      "outputs": []
    },
    {
      "metadata": {
        "id": "han-1FGbacRq",
        "colab_type": "text"
      },
      "cell_type": "markdown",
      "source": [
        "Validação das previsões"
      ]
    },
    {
      "metadata": {
        "id": "E5gK3SlxaZBz",
        "colab_type": "code",
        "outputId": "f78e4202-daed-4c15-fbb3-d935577210b9",
        "colab": {
          "base_uri": "https://localhost:8080/",
          "height": 34
        }
      },
      "cell_type": "code",
      "source": [
        "\n",
        "\n",
        "corretos = (previsoes == teste_y).sum()\n",
        "total = len(teste_x)\n",
        "taxa_de_acertos = corretos / total\n",
        "print('Taxa de acertos: %.2f' % (taxa_de_acertos * 100))"
      ],
      "execution_count": 0,
      "outputs": [
        {
          "output_type": "stream",
          "text": [
            "Taxa de acertos: 66.67\n"
          ],
          "name": "stdout"
        }
      ]
    },
    {
      "metadata": {
        "id": "bmTcmiFVir9h",
        "colab_type": "text"
      },
      "cell_type": "markdown",
      "source": [
        "Validação das previsões utilizando a acurácia do sklearn"
      ]
    },
    {
      "metadata": {
        "id": "6PiK7UWqiq6t",
        "colab_type": "code",
        "outputId": "85dd2741-611c-4b2e-ab72-552b9d7ffabd",
        "colab": {
          "base_uri": "https://localhost:8080/",
          "height": 34
        }
      },
      "cell_type": "code",
      "source": [
        "from sklearn.metrics import accuracy_score\n",
        "taxa_de_acerto = accuracy_score(teste_y, previsoes)\n",
        "print('Taxa de acertos: %.2f' % (taxa_de_acertos * 100))"
      ],
      "execution_count": 0,
      "outputs": [
        {
          "output_type": "stream",
          "text": [
            "Taxa de acertos: 66.67\n"
          ],
          "name": "stdout"
        }
      ]
    }
  ]
}